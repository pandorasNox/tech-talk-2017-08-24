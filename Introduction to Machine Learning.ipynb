{
 "cells": [
  {
   "cell_type": "markdown",
   "metadata": {
    "toc": "true"
   },
   "source": [
    "# Table of Contents\n",
    " <p><div class=\"lev1 toc-item\"><a href=\"#Introduction-to-Machine-Learning\" data-toc-modified-id=\"Introduction-to-Machine-Learning-1\"><span class=\"toc-item-num\">1&nbsp;&nbsp;</span>Introduction to Machine Learning</a></div><div class=\"lev2 toc-item\"><a href=\"#Hello-World\" data-toc-modified-id=\"Hello-World-11\"><span class=\"toc-item-num\">1.1&nbsp;&nbsp;</span>Hello World</a></div><div class=\"lev3 toc-item\"><a href=\"#load-data-into-a-data-frame\" data-toc-modified-id=\"load-data-into-a-data-frame-111\"><span class=\"toc-item-num\">1.1.1&nbsp;&nbsp;</span>load data into a data frame</a></div><div class=\"lev3 toc-item\"><a href=\"#define-target-variable-and-features\" data-toc-modified-id=\"define-target-variable-and-features-112\"><span class=\"toc-item-num\">1.1.2&nbsp;&nbsp;</span>define target variable and features</a></div><div class=\"lev3 toc-item\"><a href=\"#train-the-model\" data-toc-modified-id=\"train-the-model-113\"><span class=\"toc-item-num\">1.1.3&nbsp;&nbsp;</span>train the model</a></div><div class=\"lev3 toc-item\"><a href=\"#evaluate-the-performance\" data-toc-modified-id=\"evaluate-the-performance-114\"><span class=\"toc-item-num\">1.1.4&nbsp;&nbsp;</span>evaluate the performance</a></div><div class=\"lev2 toc-item\"><a href=\"#Doing-it-better\" data-toc-modified-id=\"Doing-it-better-12\"><span class=\"toc-item-num\">1.2&nbsp;&nbsp;</span>Doing it better</a></div><div class=\"lev3 toc-item\"><a href=\"#Train-Test-Split\" data-toc-modified-id=\"Train-Test-Split-121\"><span class=\"toc-item-num\">1.2.1&nbsp;&nbsp;</span>Train-Test Split</a></div><div class=\"lev3 toc-item\"><a href=\"#Cross-Validation\" data-toc-modified-id=\"Cross-Validation-122\"><span class=\"toc-item-num\">1.2.2&nbsp;&nbsp;</span>Cross-Validation</a></div><div class=\"lev3 toc-item\"><a href=\"#GridSearch\" data-toc-modified-id=\"GridSearch-123\"><span class=\"toc-item-num\">1.2.3&nbsp;&nbsp;</span>GridSearch</a></div><div class=\"lev4 toc-item\"><a href=\"#RandomForest\" data-toc-modified-id=\"RandomForest-1231\"><span class=\"toc-item-num\">1.2.3.1&nbsp;&nbsp;</span>RandomForest</a></div><div class=\"lev4 toc-item\"><a href=\"#Neural-Net\" data-toc-modified-id=\"Neural-Net-1232\"><span class=\"toc-item-num\">1.2.3.2&nbsp;&nbsp;</span>Neural Net</a></div><div class=\"lev4 toc-item\"><a href=\"#K-Nearest-Neighbors\" data-toc-modified-id=\"K-Nearest-Neighbors-1233\"><span class=\"toc-item-num\">1.2.3.3&nbsp;&nbsp;</span>K Nearest Neighbors</a></div><div class=\"lev1 toc-item\"><a href=\"#Remarks\" data-toc-modified-id=\"Remarks-2\"><span class=\"toc-item-num\">2&nbsp;&nbsp;</span>Remarks</a></div>"
   ]
  },
  {
   "cell_type": "markdown",
   "metadata": {
    "run_control": {
     "frozen": false,
     "read_only": false
    }
   },
   "source": [
    "# Introduction to Machine Learning"
   ]
  },
  {
   "cell_type": "code",
   "execution_count": 1,
   "metadata": {
    "ExecuteTime": {
     "end_time": "2017-08-23T14:54:59.895505Z",
     "start_time": "2017-08-23T14:54:57.937373Z"
    },
    "collapsed": true,
    "run_control": {
     "frozen": false,
     "read_only": false
    }
   },
   "outputs": [],
   "source": [
    "import numpy as np                                         # numerical computations\n",
    "import pandas as pd                                        # data frames\n",
    "import matplotlib.pyplot as plt                            # simple plotting\n",
    "import seaborn as sns                                      # fancy plotting\n",
    "\n",
    "from sklearn.ensemble import RandomForestClassifier        # machine learning\n",
    "from sklearn.metrics import accuracy_score                 # evaluation\n",
    "\n",
    "                                                           # show plots in outputs\n",
    "%matplotlib inline\n",
    "\n",
    "from IPython.core.interactiveshell import InteractiveShell # allow multiple outputs\n",
    "InteractiveShell.ast_node_interactivity = \"all\""
   ]
  },
  {
   "cell_type": "markdown",
   "metadata": {
    "heading_collapsed": true,
    "run_control": {
     "frozen": false,
     "read_only": false
    }
   },
   "source": [
    "## Hello World"
   ]
  },
  {
   "cell_type": "markdown",
   "metadata": {
    "heading_collapsed": true,
    "hidden": true,
    "run_control": {
     "frozen": false,
     "read_only": false
    }
   },
   "source": [
    "### load data into a data frame"
   ]
  },
  {
   "cell_type": "code",
   "execution_count": 2,
   "metadata": {
    "ExecuteTime": {
     "end_time": "2017-08-23T14:54:59.914634Z",
     "start_time": "2017-08-23T14:54:59.895505Z"
    },
    "collapsed": true,
    "hidden": true,
    "run_control": {
     "frozen": false,
     "read_only": false
    }
   },
   "outputs": [],
   "source": [
    "train = pd.read_csv(\"titanic.csv\")"
   ]
  },
  {
   "cell_type": "code",
   "execution_count": 3,
   "metadata": {
    "ExecuteTime": {
     "end_time": "2017-08-23T14:54:59.973650Z",
     "start_time": "2017-08-23T14:54:59.921642Z"
    },
    "hidden": true,
    "run_control": {
     "frozen": false,
     "read_only": false
    }
   },
   "outputs": [
    {
     "data": {
      "text/html": [
       "<div>\n",
       "<style>\n",
       "    .dataframe thead tr:only-child th {\n",
       "        text-align: right;\n",
       "    }\n",
       "\n",
       "    .dataframe thead th {\n",
       "        text-align: left;\n",
       "    }\n",
       "\n",
       "    .dataframe tbody tr th {\n",
       "        vertical-align: top;\n",
       "    }\n",
       "</style>\n",
       "<table border=\"1\" class=\"dataframe\">\n",
       "  <thead>\n",
       "    <tr style=\"text-align: right;\">\n",
       "      <th></th>\n",
       "      <th>Survived</th>\n",
       "      <th>Age</th>\n",
       "      <th>SibSp</th>\n",
       "      <th>Parch</th>\n",
       "      <th>Fare</th>\n",
       "      <th>Pclass_2</th>\n",
       "      <th>Pclass_3</th>\n",
       "      <th>Sex_male</th>\n",
       "      <th>Embarked_Q</th>\n",
       "      <th>Embarked_S</th>\n",
       "    </tr>\n",
       "  </thead>\n",
       "  <tbody>\n",
       "    <tr>\n",
       "      <th>0</th>\n",
       "      <td>0</td>\n",
       "      <td>22.0</td>\n",
       "      <td>1</td>\n",
       "      <td>0</td>\n",
       "      <td>7.2500</td>\n",
       "      <td>0</td>\n",
       "      <td>1</td>\n",
       "      <td>1</td>\n",
       "      <td>0</td>\n",
       "      <td>1</td>\n",
       "    </tr>\n",
       "    <tr>\n",
       "      <th>1</th>\n",
       "      <td>1</td>\n",
       "      <td>38.0</td>\n",
       "      <td>1</td>\n",
       "      <td>0</td>\n",
       "      <td>71.2833</td>\n",
       "      <td>0</td>\n",
       "      <td>0</td>\n",
       "      <td>0</td>\n",
       "      <td>0</td>\n",
       "      <td>0</td>\n",
       "    </tr>\n",
       "    <tr>\n",
       "      <th>2</th>\n",
       "      <td>1</td>\n",
       "      <td>26.0</td>\n",
       "      <td>0</td>\n",
       "      <td>0</td>\n",
       "      <td>7.9250</td>\n",
       "      <td>0</td>\n",
       "      <td>1</td>\n",
       "      <td>0</td>\n",
       "      <td>0</td>\n",
       "      <td>1</td>\n",
       "    </tr>\n",
       "    <tr>\n",
       "      <th>3</th>\n",
       "      <td>1</td>\n",
       "      <td>35.0</td>\n",
       "      <td>1</td>\n",
       "      <td>0</td>\n",
       "      <td>53.1000</td>\n",
       "      <td>0</td>\n",
       "      <td>0</td>\n",
       "      <td>0</td>\n",
       "      <td>0</td>\n",
       "      <td>1</td>\n",
       "    </tr>\n",
       "    <tr>\n",
       "      <th>4</th>\n",
       "      <td>0</td>\n",
       "      <td>35.0</td>\n",
       "      <td>0</td>\n",
       "      <td>0</td>\n",
       "      <td>8.0500</td>\n",
       "      <td>0</td>\n",
       "      <td>1</td>\n",
       "      <td>1</td>\n",
       "      <td>0</td>\n",
       "      <td>1</td>\n",
       "    </tr>\n",
       "  </tbody>\n",
       "</table>\n",
       "</div>"
      ],
      "text/plain": [
       "   Survived   Age  SibSp  Parch     Fare  Pclass_2  Pclass_3  Sex_male  \\\n",
       "0         0  22.0      1      0   7.2500         0         1         1   \n",
       "1         1  38.0      1      0  71.2833         0         0         0   \n",
       "2         1  26.0      0      0   7.9250         0         1         0   \n",
       "3         1  35.0      1      0  53.1000         0         0         0   \n",
       "4         0  35.0      0      0   8.0500         0         1         1   \n",
       "\n",
       "   Embarked_Q  Embarked_S  \n",
       "0           0           1  \n",
       "1           0           0  \n",
       "2           0           1  \n",
       "3           0           1  \n",
       "4           0           1  "
      ]
     },
     "execution_count": 3,
     "metadata": {},
     "output_type": "execute_result"
    }
   ],
   "source": [
    "train.head()"
   ]
  },
  {
   "cell_type": "markdown",
   "metadata": {
    "hidden": true,
    "run_control": {
     "frozen": false,
     "read_only": false
    }
   },
   "source": [
    "It's good practice to keep a description of the data at hand:\n",
    "- Survived: 1 = yes, 0 = no\n",
    "- Pclass: Ticket class -> 1 = Upper (1st), 2 = Middle (2nd), 3 = Lower (3rd)\n",
    "- Sibsp: number of siblings / spouses aboard the Titanic (brother, sister, stepbrother, stepsister, husband, wife)\n",
    "- Parch: number of parents / children aboard the Titanic (mother, father, daughter, son, stepdaughter, stepson)\n",
    "- Fare: Passenger fare\n",
    "- Sex: Passenger's sex\n",
    "- Embarked: C = Cherbourg, Q = Queenstown, S = Southampton"
   ]
  },
  {
   "cell_type": "markdown",
   "metadata": {
    "heading_collapsed": true,
    "hidden": true,
    "run_control": {
     "frozen": false,
     "read_only": false
    }
   },
   "source": [
    "### define target variable and features"
   ]
  },
  {
   "cell_type": "code",
   "execution_count": 4,
   "metadata": {
    "ExecuteTime": {
     "end_time": "2017-08-23T14:55:00.017651Z",
     "start_time": "2017-08-23T14:54:59.978656Z"
    },
    "collapsed": true,
    "hidden": true,
    "run_control": {
     "frozen": false,
     "read_only": false
    }
   },
   "outputs": [],
   "source": [
    "features = train.drop(\"Survived\", axis=1)\n",
    "target = train[\"Survived\"]"
   ]
  },
  {
   "cell_type": "markdown",
   "metadata": {
    "heading_collapsed": true,
    "hidden": true,
    "run_control": {
     "frozen": false,
     "read_only": false
    }
   },
   "source": [
    "### train the model"
   ]
  },
  {
   "cell_type": "code",
   "execution_count": 5,
   "metadata": {
    "ExecuteTime": {
     "end_time": "2017-08-23T14:55:00.051691Z",
     "start_time": "2017-08-23T14:55:00.030654Z"
    },
    "collapsed": true,
    "hidden": true,
    "run_control": {
     "frozen": false,
     "read_only": false
    }
   },
   "outputs": [],
   "source": [
    "clf = RandomForestClassifier()"
   ]
  },
  {
   "cell_type": "code",
   "execution_count": 6,
   "metadata": {
    "ExecuteTime": {
     "end_time": "2017-08-23T14:55:00.125689Z",
     "start_time": "2017-08-23T14:55:00.058692Z"
    },
    "collapsed": true,
    "hidden": true,
    "run_control": {
     "frozen": false,
     "read_only": false
    }
   },
   "outputs": [],
   "source": [
    "model = clf.fit(features, target)"
   ]
  },
  {
   "cell_type": "markdown",
   "metadata": {
    "heading_collapsed": true,
    "hidden": true,
    "run_control": {
     "frozen": false,
     "read_only": false
    }
   },
   "source": [
    "### evaluate the performance"
   ]
  },
  {
   "cell_type": "code",
   "execution_count": 7,
   "metadata": {
    "ExecuteTime": {
     "end_time": "2017-08-23T14:55:00.144708Z",
     "start_time": "2017-08-23T14:55:00.129697Z"
    },
    "collapsed": true,
    "hidden": true,
    "run_control": {
     "frozen": false,
     "read_only": false
    }
   },
   "outputs": [],
   "source": [
    "predictions = model.predict(features)"
   ]
  },
  {
   "cell_type": "code",
   "execution_count": 8,
   "metadata": {
    "ExecuteTime": {
     "end_time": "2017-08-23T14:55:00.190722Z",
     "start_time": "2017-08-23T14:55:00.150725Z"
    },
    "hidden": true,
    "run_control": {
     "frozen": false,
     "read_only": false
    }
   },
   "outputs": [
    {
     "data": {
      "text/plain": [
       "0.97081930415263751"
      ]
     },
     "execution_count": 8,
     "metadata": {},
     "output_type": "execute_result"
    }
   ],
   "source": [
    "accuracy_score(target, predictions)"
   ]
  },
  {
   "cell_type": "markdown",
   "metadata": {
    "hidden": true,
    "run_control": {
     "frozen": false,
     "read_only": false
    }
   },
   "source": [
    "An accuracy of ~97% (that is an error rate of under 3%) out of the box should make you sceptical. What is too good to be true is probably not true.  \n",
    "What did we do wrong? Well, the evaluation on the same data that we trained on will always be overly optimistic.  \n",
    "In order to get a more realistic estimate of our model's performance we need to improve our methodology."
   ]
  },
  {
   "cell_type": "markdown",
   "metadata": {
    "heading_collapsed": true,
    "run_control": {
     "frozen": false,
     "read_only": false
    }
   },
   "source": [
    "## Doing it better"
   ]
  },
  {
   "cell_type": "markdown",
   "metadata": {
    "ExecuteTime": {
     "end_time": "2017-08-21T12:36:21.958631Z",
     "start_time": "2017-08-21T12:36:21.951625Z"
    },
    "heading_collapsed": true,
    "hidden": true,
    "run_control": {
     "frozen": false,
     "read_only": false
    }
   },
   "source": [
    "### Train-Test Split"
   ]
  },
  {
   "cell_type": "markdown",
   "metadata": {
    "hidden": true,
    "run_control": {
     "frozen": false,
     "read_only": false
    }
   },
   "source": [
    "The \"Hello World\" example above has some flaws.  \n",
    "One of them is that we evaluate the model with the training data. This is likely to lead to overfitting.  \n",
    "Therefore we split the training data into a training set and a test set. We train on the former and evaluate on the latter."
   ]
  },
  {
   "cell_type": "code",
   "execution_count": 9,
   "metadata": {
    "ExecuteTime": {
     "end_time": "2017-08-23T14:55:00.214721Z",
     "start_time": "2017-08-23T14:55:00.194723Z"
    },
    "collapsed": true,
    "hidden": true,
    "run_control": {
     "frozen": false,
     "read_only": false
    }
   },
   "outputs": [],
   "source": [
    "from sklearn.model_selection import train_test_split"
   ]
  },
  {
   "cell_type": "code",
   "execution_count": 10,
   "metadata": {
    "ExecuteTime": {
     "end_time": "2017-08-23T14:55:00.267748Z",
     "start_time": "2017-08-23T14:55:00.219725Z"
    },
    "collapsed": true,
    "hidden": true,
    "run_control": {
     "frozen": false,
     "read_only": false
    }
   },
   "outputs": [],
   "source": [
    "x_train, x_test, y_train, y_test = train_test_split(features, target, test_size=0.3, random_state=42)"
   ]
  },
  {
   "cell_type": "code",
   "execution_count": 11,
   "metadata": {
    "ExecuteTime": {
     "end_time": "2017-08-23T14:55:00.341759Z",
     "start_time": "2017-08-23T14:55:00.270751Z"
    },
    "collapsed": true,
    "hidden": true,
    "run_control": {
     "frozen": false,
     "read_only": false
    }
   },
   "outputs": [],
   "source": [
    "model = clf.fit(x_train, y_train)"
   ]
  },
  {
   "cell_type": "code",
   "execution_count": 12,
   "metadata": {
    "ExecuteTime": {
     "end_time": "2017-08-23T14:55:00.365769Z",
     "start_time": "2017-08-23T14:55:00.347757Z"
    },
    "collapsed": true,
    "hidden": true,
    "run_control": {
     "frozen": false,
     "read_only": false
    }
   },
   "outputs": [],
   "source": [
    "predictions = model.predict(x_test)"
   ]
  },
  {
   "cell_type": "code",
   "execution_count": 13,
   "metadata": {
    "ExecuteTime": {
     "end_time": "2017-08-23T14:55:00.409773Z",
     "start_time": "2017-08-23T14:55:00.369770Z"
    },
    "hidden": true,
    "run_control": {
     "frozen": false,
     "read_only": false
    }
   },
   "outputs": [
    {
     "data": {
      "text/plain": [
       "0.79850746268656714"
      ]
     },
     "execution_count": 13,
     "metadata": {},
     "output_type": "execute_result"
    }
   ],
   "source": [
    "accuracy_score(y_test, predictions)"
   ]
  },
  {
   "cell_type": "markdown",
   "metadata": {
    "hidden": true,
    "run_control": {
     "frozen": false,
     "read_only": false
    }
   },
   "source": [
    "This seems to be a lot more reasonable.  \n",
    "But how does this compare to a \"baseline\" prediction where we just predict that everybody died?"
   ]
  },
  {
   "cell_type": "code",
   "execution_count": 14,
   "metadata": {
    "ExecuteTime": {
     "end_time": "2017-08-23T14:55:00.451802Z",
     "start_time": "2017-08-23T14:55:00.416773Z"
    },
    "collapsed": true,
    "hidden": true,
    "run_control": {
     "frozen": false,
     "read_only": false
    }
   },
   "outputs": [],
   "source": [
    "predictions = np.zeros(len(y_test))"
   ]
  },
  {
   "cell_type": "code",
   "execution_count": 15,
   "metadata": {
    "ExecuteTime": {
     "end_time": "2017-08-23T14:55:00.502807Z",
     "start_time": "2017-08-23T14:55:00.458806Z"
    },
    "hidden": true,
    "run_control": {
     "frozen": false,
     "read_only": false
    }
   },
   "outputs": [
    {
     "data": {
      "text/plain": [
       "0.58582089552238803"
      ]
     },
     "execution_count": 15,
     "metadata": {},
     "output_type": "execute_result"
    }
   ],
   "source": [
    "accuracy_score(y_test, predictions)"
   ]
  },
  {
   "cell_type": "markdown",
   "metadata": {
    "hidden": true,
    "run_control": {
     "frozen": false,
     "read_only": false
    }
   },
   "source": [
    "it's a good sign that the classifier performs better than the baseline. yay :-)  "
   ]
  },
  {
   "cell_type": "markdown",
   "metadata": {
    "heading_collapsed": true,
    "hidden": true,
    "run_control": {
     "frozen": false,
     "read_only": false
    }
   },
   "source": [
    "### Cross-Validation"
   ]
  },
  {
   "cell_type": "markdown",
   "metadata": {
    "hidden": true,
    "run_control": {
     "frozen": false,
     "read_only": false
    }
   },
   "source": [
    "If we did the aforementioned procedure of splitting, training and evaluating again and again to optimize the parameters of our model, we'd still overfit.  \n",
    "This happens because we'd eventually optimize our model for the test data, but wouldn't generalize to new, unseen data.  \n",
    "Machine learning is about learning the relationships and internal rules of the data. But figuring out the best algorithm with the optimal parameters is a learning process on its own.   \n",
    "To seperate these two steps it is recommended to split the data into three parts: First we cut off the test set which we hold back until the very end when we assess the performance of the selected model.  \n",
    "The Cross-Validation function of sklearn does the 2nd split into train and validation set for us (k times).  "
   ]
  },
  {
   "cell_type": "code",
   "execution_count": 16,
   "metadata": {
    "ExecuteTime": {
     "end_time": "2017-08-23T14:55:00.535329Z",
     "start_time": "2017-08-23T14:55:00.507807Z"
    },
    "collapsed": true,
    "hidden": true,
    "run_control": {
     "frozen": false,
     "read_only": false
    }
   },
   "outputs": [],
   "source": [
    "from sklearn.model_selection import cross_val_score"
   ]
  },
  {
   "cell_type": "code",
   "execution_count": 17,
   "metadata": {
    "ExecuteTime": {
     "end_time": "2017-08-23T14:55:00.746403Z",
     "start_time": "2017-08-23T14:55:00.544337Z"
    },
    "hidden": true,
    "run_control": {
     "frozen": false,
     "read_only": false
    }
   },
   "outputs": [
    {
     "data": {
      "text/plain": [
       "array([ 0.83707865,  0.78651685,  0.76966292,  0.82022472])"
      ]
     },
     "execution_count": 17,
     "metadata": {},
     "output_type": "execute_result"
    },
    {
     "name": "stdout",
     "output_type": "stream",
     "text": [
      "average cross validation score: 0.8033707865168539\n"
     ]
    }
   ],
   "source": [
    "x_train, x_test, y_train, y_test = train_test_split(features, target, test_size=0.2, random_state=42)\n",
    "cv_scores = cross_val_score(clf, x_train, y_train, cv=4)\n",
    "cv_scores\n",
    "print(\"average cross validation score: {0}\".format(cv_scores.mean()))"
   ]
  },
  {
   "cell_type": "markdown",
   "metadata": {
    "heading_collapsed": true,
    "hidden": true,
    "run_control": {
     "frozen": false,
     "read_only": false
    }
   },
   "source": [
    "### GridSearch"
   ]
  },
  {
   "cell_type": "markdown",
   "metadata": {
    "hidden": true,
    "run_control": {
     "frozen": false,
     "read_only": false
    }
   },
   "source": [
    "With the grid search approach we can try out every combination of the given parameters to find the best one.  \n",
    "Note that this can take a long time.   \n",
    "For large datasets you can use sklearn's RandomizedSearchCV, which doesn't try all combinations but converges towards the optimum relatively fast."
   ]
  },
  {
   "cell_type": "markdown",
   "metadata": {
    "heading_collapsed": true,
    "hidden": true,
    "run_control": {
     "frozen": false,
     "read_only": false
    }
   },
   "source": [
    "#### RandomForest"
   ]
  },
  {
   "cell_type": "code",
   "execution_count": 18,
   "metadata": {
    "ExecuteTime": {
     "end_time": "2017-08-23T14:55:00.758734Z",
     "start_time": "2017-08-23T14:55:00.749742Z"
    },
    "collapsed": true,
    "hidden": true,
    "run_control": {
     "frozen": false,
     "read_only": false
    }
   },
   "outputs": [],
   "source": [
    "from sklearn.model_selection import GridSearchCV"
   ]
  },
  {
   "cell_type": "code",
   "execution_count": 19,
   "metadata": {
    "ExecuteTime": {
     "end_time": "2017-08-23T14:55:00.802734Z",
     "start_time": "2017-08-23T14:55:00.772736Z"
    },
    "collapsed": true,
    "hidden": true,
    "run_control": {
     "frozen": false,
     "read_only": false
    }
   },
   "outputs": [],
   "source": [
    "parameters = {'n_estimators':(5, 10, 50, 100), \"max_depth\":(None, 5, 10, 20)}\n",
    "rf_clf = GridSearchCV(RandomForestClassifier(n_jobs=2), parameters, cv=4)"
   ]
  },
  {
   "cell_type": "code",
   "execution_count": 20,
   "metadata": {
    "ExecuteTime": {
     "end_time": "2017-08-23T14:55:27.740795Z",
     "start_time": "2017-08-23T14:55:00.806735Z"
    },
    "hidden": true,
    "run_control": {
     "frozen": false,
     "read_only": false
    }
   },
   "outputs": [
    {
     "name": "stdout",
     "output_type": "stream",
     "text": [
      "Wall time: 26.9 s\n"
     ]
    },
    {
     "data": {
      "text/plain": [
       "GridSearchCV(cv=4, error_score='raise',\n",
       "       estimator=RandomForestClassifier(bootstrap=True, class_weight=None, criterion='gini',\n",
       "            max_depth=None, max_features='auto', max_leaf_nodes=None,\n",
       "            min_impurity_split=1e-07, min_samples_leaf=1,\n",
       "            min_samples_split=2, min_weight_fraction_leaf=0.0,\n",
       "            n_estimators=10, n_jobs=2, oob_score=False, random_state=None,\n",
       "            verbose=0, warm_start=False),\n",
       "       fit_params={}, iid=True, n_jobs=1,\n",
       "       param_grid={'n_estimators': (5, 10, 50, 100), 'max_depth': (None, 5, 10, 20)},\n",
       "       pre_dispatch='2*n_jobs', refit=True, return_train_score=True,\n",
       "       scoring=None, verbose=0)"
      ]
     },
     "execution_count": 20,
     "metadata": {},
     "output_type": "execute_result"
    }
   ],
   "source": [
    "%time rf_clf.fit(x_train, y_train)"
   ]
  },
  {
   "cell_type": "code",
   "execution_count": 21,
   "metadata": {
    "ExecuteTime": {
     "end_time": "2017-08-23T14:55:27.765813Z",
     "start_time": "2017-08-23T14:55:27.745794Z"
    },
    "hidden": true,
    "run_control": {
     "frozen": false,
     "read_only": false
    }
   },
   "outputs": [
    {
     "name": "stdout",
     "output_type": "stream",
     "text": [
      "best parameters: {'max_depth': 5, 'n_estimators': 100}\n",
      "best score: 0.8314606741573034\n"
     ]
    }
   ],
   "source": [
    "print(\"best parameters: {0}\".format(rf_clf.best_params_))\n",
    "print(\"best score: {0}\".format(rf_clf.best_score_))"
   ]
  },
  {
   "cell_type": "markdown",
   "metadata": {
    "ExecuteTime": {
     "end_time": "2017-08-21T14:37:09.127907Z",
     "start_time": "2017-08-21T14:37:09.120907Z"
    },
    "heading_collapsed": true,
    "hidden": true,
    "run_control": {
     "frozen": false,
     "read_only": false
    }
   },
   "source": [
    "#### Neural Net"
   ]
  },
  {
   "cell_type": "markdown",
   "metadata": {
    "hidden": true,
    "run_control": {
     "frozen": false,
     "read_only": false
    }
   },
   "source": [
    "Sklearn provides the Multi-Layer-Perceptron classifier which is a simple neural net.  \n",
    "Note that the MLPClassifier is sensitive to the scale of the features. To get better results it is recommended to scale or even standardize the data. To do that we subtract the mean from each value and divide by the standard deviation. As a result all datapoints are then centered around Zero and most of them are in the interval [-1, +1].  \n",
    "The StandardScaler does this transformation for us."
   ]
  },
  {
   "cell_type": "code",
   "execution_count": 22,
   "metadata": {
    "ExecuteTime": {
     "end_time": "2017-08-23T14:55:27.824829Z",
     "start_time": "2017-08-23T14:55:27.769834Z"
    },
    "collapsed": true,
    "hidden": true,
    "run_control": {
     "frozen": false,
     "read_only": false
    }
   },
   "outputs": [],
   "source": [
    "from sklearn.preprocessing import StandardScaler\n",
    "from sklearn.neural_network import MLPClassifier"
   ]
  },
  {
   "cell_type": "markdown",
   "metadata": {
    "hidden": true,
    "run_control": {
     "frozen": false,
     "read_only": false
    }
   },
   "source": [
    "We only need to scale the features that are numerical by nature, our dummy variables for categorials must not be scaled"
   ]
  },
  {
   "cell_type": "code",
   "execution_count": 23,
   "metadata": {
    "ExecuteTime": {
     "end_time": "2017-08-23T14:55:27.865846Z",
     "start_time": "2017-08-23T14:55:27.828836Z"
    },
    "collapsed": true,
    "hidden": true,
    "run_control": {
     "frozen": false,
     "read_only": false
    }
   },
   "outputs": [],
   "source": [
    "columns_to_scale = [\"Age\", \"SibSp\", \"Parch\", \"Fare\"]"
   ]
  },
  {
   "cell_type": "markdown",
   "metadata": {
    "hidden": true,
    "run_control": {
     "frozen": false,
     "read_only": false
    }
   },
   "source": [
    "Never scale the whole dataset at once before splitting! It's because the distribution of the test set would influence the scaling of the training set, thus information would bleed from test to train data.  \n",
    "That's why we fit to the training data only and then apply the transformation to training and test set seperately."
   ]
  },
  {
   "cell_type": "code",
   "execution_count": 24,
   "metadata": {
    "ExecuteTime": {
     "end_time": "2017-08-23T14:55:27.932859Z",
     "start_time": "2017-08-23T14:55:27.870859Z"
    },
    "hidden": true,
    "run_control": {
     "frozen": false,
     "read_only": false
    }
   },
   "outputs": [
    {
     "data": {
      "text/plain": [
       "StandardScaler(copy=True, with_mean=True, with_std=True)"
      ]
     },
     "execution_count": 24,
     "metadata": {},
     "output_type": "execute_result"
    }
   ],
   "source": [
    "scaler = StandardScaler();\n",
    "scaler.fit(x_train[columns_to_scale]);\n",
    "\n",
    "x_train_scaled = scaler.transform(x_train[columns_to_scale])\n",
    "x_train_not_scaled = x_train.drop(columns_to_scale, axis=1).as_matrix()\n",
    "\n",
    "x_train_scaled = np.concatenate((x_train_scaled, x_train_not_scaled), axis=1)\n",
    "x_test_scaled = np.concatenate((scaler.transform(x_test[columns_to_scale]), x_test.drop(columns_to_scale, axis=1)), axis=1)"
   ]
  },
  {
   "cell_type": "markdown",
   "metadata": {
    "hidden": true,
    "run_control": {
     "frozen": false,
     "read_only": false
    }
   },
   "source": [
    "The MLPClassifier has a lot more parameters to tune. For simplicity we choose only a few of them here and go with the defaults for the rest."
   ]
  },
  {
   "cell_type": "code",
   "execution_count": 25,
   "metadata": {
    "ExecuteTime": {
     "end_time": "2017-08-23T14:55:27.965899Z",
     "start_time": "2017-08-23T14:55:27.939861Z"
    },
    "collapsed": true,
    "hidden": true,
    "run_control": {
     "frozen": false,
     "read_only": false
    }
   },
   "outputs": [],
   "source": [
    "parameters = {\"hidden_layer_sizes\": (5, 10, 100), \"alpha\": (0.1, 0.01, 0.001, 0.0001)}\n",
    "mlp_clf = GridSearchCV(MLPClassifier(solver='lbfgs'), parameters, cv=4)"
   ]
  },
  {
   "cell_type": "code",
   "execution_count": 26,
   "metadata": {
    "ExecuteTime": {
     "end_time": "2017-08-23T14:55:40.825111Z",
     "start_time": "2017-08-23T14:55:27.970914Z"
    },
    "hidden": true,
    "run_control": {
     "frozen": false,
     "read_only": false
    }
   },
   "outputs": [
    {
     "name": "stdout",
     "output_type": "stream",
     "text": [
      "Wall time: 12.8 s\n"
     ]
    },
    {
     "data": {
      "text/plain": [
       "GridSearchCV(cv=4, error_score='raise',\n",
       "       estimator=MLPClassifier(activation='relu', alpha=0.0001, batch_size='auto', beta_1=0.9,\n",
       "       beta_2=0.999, early_stopping=False, epsilon=1e-08,\n",
       "       hidden_layer_sizes=(100,), learning_rate='constant',\n",
       "       learning_rate_init=0.001, max_iter=200, momentum=0.9,\n",
       "       nesterovs_momentum=True, power_t=0.5, random_state=None,\n",
       "       shuffle=True, solver='lbfgs', tol=0.0001, validation_fraction=0.1,\n",
       "       verbose=False, warm_start=False),\n",
       "       fit_params={}, iid=True, n_jobs=1,\n",
       "       param_grid={'hidden_layer_sizes': (5, 10, 100), 'alpha': (0.1, 0.01, 0.001, 0.0001)},\n",
       "       pre_dispatch='2*n_jobs', refit=True, return_train_score=True,\n",
       "       scoring=None, verbose=0)"
      ]
     },
     "execution_count": 26,
     "metadata": {},
     "output_type": "execute_result"
    }
   ],
   "source": [
    "%time mlp_clf.fit(x_train_scaled, y_train)"
   ]
  },
  {
   "cell_type": "code",
   "execution_count": 27,
   "metadata": {
    "ExecuteTime": {
     "end_time": "2017-08-23T14:55:40.846114Z",
     "start_time": "2017-08-23T14:55:40.830113Z"
    },
    "hidden": true,
    "run_control": {
     "frozen": false,
     "read_only": false
    }
   },
   "outputs": [
    {
     "name": "stdout",
     "output_type": "stream",
     "text": [
      "best parameters: {'alpha': 0.01, 'hidden_layer_sizes': 5}\n",
      "best score: 0.8019662921348315\n"
     ]
    }
   ],
   "source": [
    "print(\"best parameters: {0}\".format(mlp_clf.best_params_))\n",
    "print(\"best score: {0}\".format(mlp_clf.best_score_))"
   ]
  },
  {
   "cell_type": "markdown",
   "metadata": {
    "hidden": true,
    "run_control": {
     "frozen": false,
     "read_only": false
    }
   },
   "source": [
    "The Random Forest seems to perform a littlebit better than the Neural Net."
   ]
  },
  {
   "cell_type": "markdown",
   "metadata": {
    "heading_collapsed": true,
    "hidden": true,
    "run_control": {
     "frozen": false,
     "read_only": false
    }
   },
   "source": [
    "#### K Nearest Neighbors"
   ]
  },
  {
   "cell_type": "code",
   "execution_count": 28,
   "metadata": {
    "ExecuteTime": {
     "end_time": "2017-08-23T14:55:40.884133Z",
     "start_time": "2017-08-23T14:55:40.851113Z"
    },
    "collapsed": true,
    "hidden": true,
    "run_control": {
     "frozen": false,
     "read_only": false
    }
   },
   "outputs": [],
   "source": [
    "from sklearn.neighbors import KNeighborsClassifier"
   ]
  },
  {
   "cell_type": "code",
   "execution_count": 29,
   "metadata": {
    "ExecuteTime": {
     "end_time": "2017-08-23T14:55:40.930133Z",
     "start_time": "2017-08-23T14:55:40.891134Z"
    },
    "collapsed": true,
    "hidden": true,
    "run_control": {
     "frozen": false,
     "read_only": false
    }
   },
   "outputs": [],
   "source": [
    "parameters = {\"n_neighbors\": (2, 5, 10, 50), \"leaf_size\": (1, 5, 10, 30)}\n",
    "knn_clf = GridSearchCV(KNeighborsClassifier(), parameters, cv=4)\n",
    "#cv_scores = cross_val_score(knn_clf, x_train_scaled, y_train, cv=4)\n",
    "#cv_scores\n",
    "#print(\"average cross validation score: {0}\".format(cv_scores.mean()))"
   ]
  },
  {
   "cell_type": "code",
   "execution_count": 30,
   "metadata": {
    "ExecuteTime": {
     "end_time": "2017-08-23T14:55:42.666339Z",
     "start_time": "2017-08-23T14:55:40.935135Z"
    },
    "hidden": true,
    "run_control": {
     "frozen": false,
     "read_only": false
    }
   },
   "outputs": [
    {
     "name": "stdout",
     "output_type": "stream",
     "text": [
      "Wall time: 1.68 s\n"
     ]
    },
    {
     "data": {
      "text/plain": [
       "GridSearchCV(cv=4, error_score='raise',\n",
       "       estimator=KNeighborsClassifier(algorithm='auto', leaf_size=30, metric='minkowski',\n",
       "           metric_params=None, n_jobs=1, n_neighbors=5, p=2,\n",
       "           weights='uniform'),\n",
       "       fit_params={}, iid=True, n_jobs=1,\n",
       "       param_grid={'n_neighbors': (2, 5, 10, 50), 'leaf_size': (1, 5, 10, 30)},\n",
       "       pre_dispatch='2*n_jobs', refit=True, return_train_score=True,\n",
       "       scoring=None, verbose=0)"
      ]
     },
     "execution_count": 30,
     "metadata": {},
     "output_type": "execute_result"
    }
   ],
   "source": [
    "%time knn_clf.fit(x_train_scaled, y_train)"
   ]
  },
  {
   "cell_type": "code",
   "execution_count": 31,
   "metadata": {
    "ExecuteTime": {
     "end_time": "2017-08-23T14:55:42.683337Z",
     "start_time": "2017-08-23T14:55:42.671336Z"
    },
    "hidden": true,
    "run_control": {
     "frozen": false,
     "read_only": false
    }
   },
   "outputs": [
    {
     "name": "stdout",
     "output_type": "stream",
     "text": [
      "best parameters: {'leaf_size': 1, 'n_neighbors': 10}\n",
      "best score: 0.7991573033707865\n"
     ]
    }
   ],
   "source": [
    "print(\"best parameters: {0}\".format(knn_clf.best_params_))\n",
    "print(\"best score: {0}\".format(knn_clf.best_score_))"
   ]
  },
  {
   "cell_type": "markdown",
   "metadata": {
    "hidden": true,
    "run_control": {
     "frozen": false,
     "read_only": false
    }
   },
   "source": [
    "Nearest Neighbors is last in our small ranking. But the decision which one to chose depends on the scenario of course.  "
   ]
  },
  {
   "cell_type": "markdown",
   "metadata": {
    "heading_collapsed": true,
    "run_control": {
     "frozen": false,
     "read_only": false
    }
   },
   "source": [
    "# Remarks"
   ]
  },
  {
   "cell_type": "markdown",
   "metadata": {
    "hidden": true,
    "run_control": {
     "frozen": false,
     "read_only": false
    }
   },
   "source": [
    "- Most often **Accuracy** is not the best metric to assess the model's performance (but it's the easiest to grasp). Depending on the type of problem (regression or classifikation) there are many more metrics available.  \n",
    "- If we ran the notebook several times we'd still notice quite some changes in the evaluation scores. This type of variance is due to the small size of the data (reduced even further by splitting). With more data the results would be more robust.\n",
    "- We used **One-Hot-Encoding** to deal with the categorial data (Pclass, Sex, Embarked). But not all algorithms perform well with 1HE (see also https://roamanalytics.com/2016/10/28/are-categorical-variables-getting-lost-in-your-random-forests/).\n",
    "- model selection and parameter tuning are important, but not the only thing you can do to improve your models. **Feature Engineering**, **Feature Extraction** and **Feature Selection** are also important steps in any machine learning pipeline and can have a big (if not the biggest) impact on your success. \n"
   ]
  }
 ],
 "metadata": {
  "kernelspec": {
   "display_name": "Python 3",
   "language": "python",
   "name": "python3"
  },
  "language_info": {
   "codemirror_mode": {
    "name": "ipython",
    "version": 3
   },
   "file_extension": ".py",
   "mimetype": "text/x-python",
   "name": "python",
   "nbconvert_exporter": "python",
   "pygments_lexer": "ipython3",
   "version": "3.6.1"
  },
  "latex_envs": {
   "LaTeX_envs_menu_present": true,
   "autocomplete": true,
   "bibliofile": "biblio.bib",
   "cite_by": "apalike",
   "current_citInitial": 1,
   "eqLabelWithNumbers": true,
   "eqNumInitial": 1,
   "hotkeys": {
    "equation": "Ctrl-E",
    "itemize": "Ctrl-I"
   },
   "labels_anchors": false,
   "latex_user_defs": false,
   "report_style_numbering": false,
   "user_envs_cfg": false
  },
  "toc": {
   "colors": {
    "hover_highlight": "#DAA520",
    "running_highlight": "#FF0000",
    "selected_highlight": "#FFD700"
   },
   "moveMenuLeft": true,
   "nav_menu": {
    "height": "284px",
    "width": "252px"
   },
   "navigate_menu": true,
   "number_sections": true,
   "sideBar": true,
   "threshold": 4,
   "toc_cell": true,
   "toc_section_display": "block",
   "toc_window_display": false,
   "widenNotebook": false
  }
 },
 "nbformat": 4,
 "nbformat_minor": 2
}
